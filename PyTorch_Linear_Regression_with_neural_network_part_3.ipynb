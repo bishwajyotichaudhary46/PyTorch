{
  "cells": [
    {
      "cell_type": "code",
      "execution_count": 1,
      "metadata": {
        "id": "kUa1CAQ_AbcB"
      },
      "outputs": [],
      "source": [
        "import torch.nn as nn\n",
        "import numpy as np\n",
        "import torch\n"
      ]
    },
    {
      "cell_type": "code",
      "execution_count": 2,
      "metadata": {
        "id": "lr76iGJ1Ab2w"
      },
      "outputs": [],
      "source": [
        "# Input (temp, rainfall, humidity)\n",
        "inputs = np.array([[73, 67, 43], \n",
        "                   [91, 88, 64], \n",
        "                   [87, 134, 58], \n",
        "                   [102, 43, 37], \n",
        "                   [69, 96, 70], \n",
        "                   [74, 66, 43], \n",
        "                   [91, 87, 65], \n",
        "                   [88, 134, 59], \n",
        "                   [101, 44, 37], \n",
        "                   [68, 96, 71], \n",
        "                   [73, 66, 44], \n",
        "                   [92, 87, 64], \n",
        "                   [87, 135, 57], \n",
        "                   [103, 43, 36], \n",
        "                   [68, 97, 70]], \n",
        "                  dtype='float32')\n",
        "\n",
        "# Targets (apples, oranges)\n",
        "targets = np.array([[56, 70], \n",
        "                    [81, 101], \n",
        "                    [119, 133], \n",
        "                    [22, 37], \n",
        "                    [103, 119],\n",
        "                    [57, 69], \n",
        "                    [80, 102], \n",
        "                    [118, 132], \n",
        "                    [21, 38], \n",
        "                    [104, 118], \n",
        "                    [57, 69], \n",
        "                    [82, 100], \n",
        "                    [118, 134], \n",
        "                    [20, 38], \n",
        "                    [102, 120]], \n",
        "                   dtype='float32')\n",
        "\n",
        "inputs = torch.from_numpy(inputs)\n",
        "targets = torch.from_numpy(targets)"
      ]
    },
    {
      "cell_type": "code",
      "execution_count": 3,
      "metadata": {
        "colab": {
          "base_uri": "https://localhost:8080/"
        },
        "id": "pCql-o8PAb6S",
        "outputId": "a21d2748-cf92-4550-cc6b-72b560df630b"
      },
      "outputs": [
        {
          "output_type": "execute_result",
          "data": {
            "text/plain": [
              "tensor([[ 73.,  67.,  43.],\n",
              "        [ 91.,  88.,  64.],\n",
              "        [ 87., 134.,  58.],\n",
              "        [102.,  43.,  37.],\n",
              "        [ 69.,  96.,  70.],\n",
              "        [ 74.,  66.,  43.],\n",
              "        [ 91.,  87.,  65.],\n",
              "        [ 88., 134.,  59.],\n",
              "        [101.,  44.,  37.],\n",
              "        [ 68.,  96.,  71.],\n",
              "        [ 73.,  66.,  44.],\n",
              "        [ 92.,  87.,  64.],\n",
              "        [ 87., 135.,  57.],\n",
              "        [103.,  43.,  36.],\n",
              "        [ 68.,  97.,  70.]])"
            ]
          },
          "metadata": {},
          "execution_count": 3
        }
      ],
      "source": [
        "inputs"
      ]
    },
    {
      "cell_type": "markdown",
      "metadata": {
        "id": "JkQ-KbCcBULe"
      },
      "source": [
        "## Dataset and Loader"
      ]
    },
    {
      "cell_type": "code",
      "execution_count": 4,
      "metadata": {
        "id": "YOFRblZBAb9T"
      },
      "outputs": [],
      "source": [
        "from torch.utils.data import TensorDataset"
      ]
    },
    {
      "cell_type": "code",
      "execution_count": 5,
      "metadata": {
        "colab": {
          "base_uri": "https://localhost:8080/"
        },
        "id": "gRhufhiaAcAZ",
        "outputId": "acc7de02-786f-4de9-d1d0-bc01bb79ccfa"
      },
      "outputs": [
        {
          "output_type": "execute_result",
          "data": {
            "text/plain": [
              "(tensor([[ 73.,  67.,  43.],\n",
              "         [ 91.,  88.,  64.],\n",
              "         [ 87., 134.,  58.]]),\n",
              " tensor([[ 56.,  70.],\n",
              "         [ 81., 101.],\n",
              "         [119., 133.]]))"
            ]
          },
          "metadata": {},
          "execution_count": 5
        }
      ],
      "source": [
        "# Define dataset\n",
        "train_ds = TensorDataset(inputs, targets)\n",
        "train_ds[0:3]"
      ]
    },
    {
      "cell_type": "markdown",
      "metadata": {
        "id": "y0s1LvbfB6xJ"
      },
      "source": [
        "The TensorDataset allows us to access a small section of the training data using the array indexing notation ([0:3] in the above code). It returns a tuple with two elements. The first element contains the input variables for the selected rows, and the second contains the targets.\n",
        "\n",
        "We'll also create a DataLoader, which can split the data into batches of a predefined size while training. It also provides other utilities like shuffling and random sampling of the data."
      ]
    },
    {
      "cell_type": "code",
      "execution_count": 6,
      "metadata": {
        "id": "8-d1cSMYAcDg"
      },
      "outputs": [],
      "source": [
        "from torch.utils.data import DataLoader"
      ]
    },
    {
      "cell_type": "code",
      "execution_count": 7,
      "metadata": {
        "id": "qW2YCWKjAcG-"
      },
      "outputs": [],
      "source": [
        "#define data loader\n",
        "batch_size = 5\n",
        "train_d1 = DataLoader(train_ds, batch_size, shuffle = True)"
      ]
    },
    {
      "cell_type": "code",
      "execution_count": 8,
      "metadata": {
        "colab": {
          "base_uri": "https://localhost:8080/"
        },
        "id": "ITmuj4oNAcJt",
        "outputId": "97de3e8d-d4d9-48c5-83db-cdc5a9913ca0"
      },
      "outputs": [
        {
          "output_type": "execute_result",
          "data": {
            "text/plain": [
              "tensor([[ 73.,  67.,  43.],\n",
              "        [ 91.,  88.,  64.],\n",
              "        [ 87., 134.,  58.],\n",
              "        [102.,  43.,  37.],\n",
              "        [ 69.,  96.,  70.],\n",
              "        [ 74.,  66.,  43.],\n",
              "        [ 91.,  87.,  65.],\n",
              "        [ 88., 134.,  59.],\n",
              "        [101.,  44.,  37.],\n",
              "        [ 68.,  96.,  71.],\n",
              "        [ 73.,  66.,  44.],\n",
              "        [ 92.,  87.,  64.],\n",
              "        [ 87., 135.,  57.],\n",
              "        [103.,  43.,  36.],\n",
              "        [ 68.,  97.,  70.]])"
            ]
          },
          "metadata": {},
          "execution_count": 8
        }
      ],
      "source": [
        "inputs"
      ]
    },
    {
      "cell_type": "code",
      "execution_count": 9,
      "metadata": {
        "colab": {
          "base_uri": "https://localhost:8080/"
        },
        "id": "Ek6v1GhKAcNI",
        "outputId": "3cdca532-8f0d-473f-93f5-78ff5a005d1e"
      },
      "outputs": [
        {
          "output_type": "stream",
          "name": "stdout",
          "text": [
            "tensor([[ 68.,  96.,  71.],\n",
            "        [ 88., 134.,  59.],\n",
            "        [ 87., 135.,  57.],\n",
            "        [ 91.,  87.,  65.],\n",
            "        [ 74.,  66.,  43.]])\n",
            "tensor([[104., 118.],\n",
            "        [118., 132.],\n",
            "        [118., 134.],\n",
            "        [ 80., 102.],\n",
            "        [ 57.,  69.]])\n",
            "tensor([[ 68.,  97.,  70.],\n",
            "        [ 69.,  96.,  70.],\n",
            "        [102.,  43.,  37.],\n",
            "        [103.,  43.,  36.],\n",
            "        [ 87., 134.,  58.]])\n",
            "tensor([[102., 120.],\n",
            "        [103., 119.],\n",
            "        [ 22.,  37.],\n",
            "        [ 20.,  38.],\n",
            "        [119., 133.]])\n",
            "tensor([[ 91.,  88.,  64.],\n",
            "        [ 92.,  87.,  64.],\n",
            "        [ 73.,  66.,  44.],\n",
            "        [101.,  44.,  37.],\n",
            "        [ 73.,  67.,  43.]])\n",
            "tensor([[ 81., 101.],\n",
            "        [ 82., 100.],\n",
            "        [ 57.,  69.],\n",
            "        [ 21.,  38.],\n",
            "        [ 56.,  70.]])\n"
          ]
        }
      ],
      "source": [
        "for xb, yb in train_d1:\n",
        "  print(xb)\n",
        "  print(yb)"
      ]
    },
    {
      "cell_type": "markdown",
      "metadata": {
        "id": "TTI1MDtjDPr3"
      },
      "source": [
        "In each iteration, the data loader returns one batch of data with the given batch size. If `shuffle` is set to `True`, it shuffles the training data before creating batches. Shuffling helps randomize the input to the optimization algorithm, leading to a faster reduction in the loss."
      ]
    },
    {
      "cell_type": "markdown",
      "metadata": {
        "id": "zITRB8x3DYR4"
      },
      "source": [
        "## nn.Linear\n",
        "\n",
        "Instead of initializing the weights & biases manually, we can define the model using the `nn.Linear` class from PyTorch, which does it automatically."
      ]
    },
    {
      "cell_type": "code",
      "execution_count": 10,
      "metadata": {
        "colab": {
          "base_uri": "https://localhost:8080/"
        },
        "id": "9bXKKPAEAcQf",
        "outputId": "f03caf2d-c066-45f9-dbb7-93900dd6d723"
      },
      "outputs": [
        {
          "output_type": "stream",
          "name": "stdout",
          "text": [
            "Parameter containing:\n",
            "tensor([[ 0.4036, -0.1865,  0.0842],\n",
            "        [-0.0035,  0.3104, -0.0389]], requires_grad=True)\n",
            "Parameter containing:\n",
            "tensor([-0.3916, -0.4856], requires_grad=True)\n"
          ]
        }
      ],
      "source": [
        "model = nn.Linear(3,2)\n",
        "print(model.weight)\n",
        "print(model.bias)"
      ]
    },
    {
      "cell_type": "markdown",
      "metadata": {
        "id": "o_itgk7yDvQ5"
      },
      "source": [
        "PyTorch models also have a helpful `.parameters` method, which returns a list containing all the weights and bias matrices present in the model. For our linear regression model, we have one weight matrix and one bias matrix."
      ]
    },
    {
      "cell_type": "code",
      "execution_count": 11,
      "metadata": {
        "colab": {
          "base_uri": "https://localhost:8080/"
        },
        "id": "JNxpHkDOAcTb",
        "outputId": "08885def-8a6b-41ac-8763-2ce65e47d74f"
      },
      "outputs": [
        {
          "output_type": "execute_result",
          "data": {
            "text/plain": [
              "[Parameter containing:\n",
              " tensor([[ 0.4036, -0.1865,  0.0842],\n",
              "         [-0.0035,  0.3104, -0.0389]], requires_grad=True),\n",
              " Parameter containing:\n",
              " tensor([-0.3916, -0.4856], requires_grad=True)]"
            ]
          },
          "metadata": {},
          "execution_count": 11
        }
      ],
      "source": [
        "#parameter\n",
        "list(model.parameters())"
      ]
    },
    {
      "cell_type": "code",
      "execution_count": 12,
      "metadata": {
        "colab": {
          "base_uri": "https://localhost:8080/"
        },
        "id": "P9NmPcgYAcWb",
        "outputId": "be30133c-0fc1-40c1-d47f-230c10f43c10"
      },
      "outputs": [
        {
          "output_type": "execute_result",
          "data": {
            "text/plain": [
              "tensor([[20.1928, 18.3860],\n",
              "        [25.3079, 24.0251],\n",
              "        [14.6092, 38.5525],\n",
              "        [35.8682, 11.0683],\n",
              "        [15.4418, 26.3514],\n",
              "        [20.7829, 18.0720],\n",
              "        [25.5786, 23.6757],\n",
              "        [15.0970, 38.5101],\n",
              "        [35.2781, 11.3822],\n",
              "        [15.1224, 26.3160],\n",
              "        [20.4635, 18.0366],\n",
              "        [25.8980, 23.7111],\n",
              "        [14.3386, 38.9019],\n",
              "        [36.1876, 11.1038],\n",
              "        [14.8517, 26.6653]], grad_fn=<AddmmBackward0>)"
            ]
          },
          "metadata": {},
          "execution_count": 12
        }
      ],
      "source": [
        "# Generate prediction\n",
        "preds = model(inputs)\n",
        "preds"
      ]
    },
    {
      "cell_type": "code",
      "execution_count": 13,
      "metadata": {
        "colab": {
          "base_uri": "https://localhost:8080/"
        },
        "id": "pKTyXR6AAcZf",
        "outputId": "b0746b54-20c8-4191-b63d-c0f7a76ed3ef"
      },
      "outputs": [
        {
          "output_type": "execute_result",
          "data": {
            "text/plain": [
              "tensor([[ 56.,  70.],\n",
              "        [ 81., 101.],\n",
              "        [119., 133.],\n",
              "        [ 22.,  37.],\n",
              "        [103., 119.],\n",
              "        [ 57.,  69.],\n",
              "        [ 80., 102.],\n",
              "        [118., 132.],\n",
              "        [ 21.,  38.],\n",
              "        [104., 118.],\n",
              "        [ 57.,  69.],\n",
              "        [ 82., 100.],\n",
              "        [118., 134.],\n",
              "        [ 20.,  38.],\n",
              "        [102., 120.]])"
            ]
          },
          "metadata": {},
          "execution_count": 13
        }
      ],
      "source": [
        "targets"
      ]
    },
    {
      "cell_type": "markdown",
      "metadata": {
        "id": "JlYBVXP4EeMd"
      },
      "source": [
        "## Loss Function\n",
        "\n",
        "Instead of defining a loss function manually, we can use the built-in loss function `mse_loss`."
      ]
    },
    {
      "cell_type": "code",
      "execution_count": 14,
      "metadata": {
        "id": "RGgobewrEZog"
      },
      "outputs": [],
      "source": [
        "# Import nn.functional\n",
        "import torch.nn.functional as F"
      ]
    },
    {
      "cell_type": "markdown",
      "metadata": {
        "id": "yKa95oweE6x-"
      },
      "source": [
        "The nn.functional package contains many usefull loss function and several other utilies"
      ]
    },
    {
      "cell_type": "code",
      "execution_count": 15,
      "metadata": {
        "id": "oGRg6F6CEkvz"
      },
      "outputs": [],
      "source": [
        "# Define loss function\n",
        "loss_fn = F.mse_loss"
      ]
    },
    {
      "cell_type": "code",
      "execution_count": 16,
      "metadata": {
        "colab": {
          "base_uri": "https://localhost:8080/"
        },
        "id": "Cq1IfhAcElQ3",
        "outputId": "f362cca1-3b56-4c0b-f7ef-883dfd6c3f5e"
      },
      "outputs": [
        {
          "output_type": "stream",
          "name": "stdout",
          "text": [
            "tensor(4981.1626, grad_fn=<MseLossBackward0>)\n"
          ]
        }
      ],
      "source": [
        "loss = loss_fn(model(inputs), targets)\n",
        "print(loss)"
      ]
    },
    {
      "cell_type": "markdown",
      "metadata": {
        "id": "_CsH5kO0FqDB"
      },
      "source": [
        "## Optimizer\n",
        "\n",
        "Instead of manually manipulating the model's weights & biases using gradients, we can use the optimizer `optim.SGD`. SGD is short for \"stochastic gradient descent\". The term _stochastic_ indicates that samples are selected in random batches instead of as a single group.\n"
      ]
    },
    {
      "cell_type": "code",
      "execution_count": 17,
      "metadata": {
        "id": "AwA4OxUvEl5O"
      },
      "outputs": [],
      "source": [
        "opt = torch.optim.SGD(model.parameters(), lr=1e-5)"
      ]
    },
    {
      "cell_type": "markdown",
      "metadata": {
        "id": "Jss60LJoGB-K"
      },
      "source": [
        "Note that `model.parameters()` is passed as an argument to `optim.SGD` so that the optimizer knows which matrices should be modified during the update step. Also, we can specify a learning rate that controls the amount by which the parameters are modified."
      ]
    },
    {
      "cell_type": "markdown",
      "metadata": {
        "id": "mp41PkZRGHEq"
      },
      "source": [
        "## Train the model\n",
        "\n",
        "We are now ready to train the model. We'll follow the same process to implement gradient descent:\n",
        "\n",
        "1. Generate predictions\n",
        "\n",
        "2. Calculate the loss\n",
        "\n",
        "3. Compute gradients w.r.t the weights and biases\n",
        "\n",
        "4. Adjust the weights by subtracting a small quantity proportional to the gradient\n",
        "\n",
        "5. Reset the gradients to zero\n",
        "\n",
        "The only change is that we'll work batches of data instead of processing the entire training data in every iteration. Let's define a utility function `fit` that trains the model for a given number of epochs."
      ]
    },
    {
      "cell_type": "code",
      "execution_count": 29,
      "metadata": {
        "id": "40IWN1bHEmk_"
      },
      "outputs": [],
      "source": [
        "# utility function to train the model\n",
        "def fit(num_epochs, model, loss_fn, opt, train_d1):\n",
        "  # reapeat for the given number of epochs\n",
        "  for epoch in range(num_epochs):\n",
        "    # train with batches of data\n",
        "    for xb, yb in train_d1:\n",
        "      # 1. Generate Prediction\n",
        "      pred = model(xb)\n",
        "\n",
        "      # 2. Calculate loss \n",
        "      loss = loss_fn(pred, yb)\n",
        "\n",
        "      # 3. Compute Gradients\n",
        "      loss.backward()\n",
        "\n",
        "      # 4. Update parameters using gradients\n",
        "      opt.step()\n",
        "\n",
        "      # 5. REset the gradient to zero\n",
        "      opt.zero_grad()\n",
        "    # print the progess\n",
        "    \n",
        "    if (epoch+1) % 10 == 0:\n",
        "      print(f'Epoch [{epoch+1}/{num_epochs}], Loss: {loss.item():.4f}')\n",
        "\n"
      ]
    },
    {
      "cell_type": "code",
      "execution_count": 30,
      "metadata": {
        "id": "6sH-n00iEnN3",
        "colab": {
          "base_uri": "https://localhost:8080/"
        },
        "outputId": "81b3294f-6fa4-41a4-c481-5b402bc4e26d"
      },
      "outputs": [
        {
          "output_type": "stream",
          "name": "stdout",
          "text": [
            "Epoch [10/100], Loss: 93.1673\n",
            "Epoch [20/100], Loss: 48.4300\n",
            "Epoch [30/100], Loss: 49.7156\n",
            "Epoch [40/100], Loss: 28.5593\n",
            "Epoch [50/100], Loss: 34.2131\n",
            "Epoch [60/100], Loss: 34.8422\n",
            "Epoch [70/100], Loss: 30.6446\n",
            "Epoch [80/100], Loss: 22.7767\n",
            "Epoch [90/100], Loss: 18.1404\n",
            "Epoch [100/100], Loss: 22.9838\n"
          ]
        }
      ],
      "source": [
        "fit(100,model, loss_fn,opt,train_d1)"
      ]
    },
    {
      "cell_type": "code",
      "execution_count": 31,
      "metadata": {
        "id": "wr408vHsEn5B",
        "colab": {
          "base_uri": "https://localhost:8080/"
        },
        "outputId": "fada369d-f04e-4c4b-b60c-660c5a700494"
      },
      "outputs": [
        {
          "output_type": "execute_result",
          "data": {
            "text/plain": [
              "tensor([[ 57.6556,  71.0433],\n",
              "        [ 80.9742,  97.7509],\n",
              "        [119.6313, 138.7888],\n",
              "        [ 25.0126,  41.1131],\n",
              "        [ 97.4818, 111.5455],\n",
              "        [ 56.4795,  69.9460],\n",
              "        [ 80.5838,  97.2792],\n",
              "        [119.8210, 139.0986],\n",
              "        [ 26.1887,  42.2104],\n",
              "        [ 98.2676, 112.1710],\n",
              "        [ 57.2653,  70.5715],\n",
              "        [ 79.7980,  96.6536],\n",
              "        [120.0216, 139.2605],\n",
              "        [ 24.2268,  40.4876],\n",
              "        [ 98.6579, 112.6427]], grad_fn=<AddmmBackward0>)"
            ]
          },
          "metadata": {},
          "execution_count": 31
        }
      ],
      "source": [
        "# Generate predictions\n",
        "preds = model(inputs)\n",
        "preds"
      ]
    },
    {
      "cell_type": "code",
      "execution_count": 32,
      "metadata": {
        "id": "0k4um6dsEohq",
        "colab": {
          "base_uri": "https://localhost:8080/"
        },
        "outputId": "70a77c41-17d9-4b2f-a8a2-dc148a68b9fa"
      },
      "outputs": [
        {
          "output_type": "execute_result",
          "data": {
            "text/plain": [
              "tensor([[ 56.,  70.],\n",
              "        [ 81., 101.],\n",
              "        [119., 133.],\n",
              "        [ 22.,  37.],\n",
              "        [103., 119.],\n",
              "        [ 57.,  69.],\n",
              "        [ 80., 102.],\n",
              "        [118., 132.],\n",
              "        [ 21.,  38.],\n",
              "        [104., 118.],\n",
              "        [ 57.,  69.],\n",
              "        [ 82., 100.],\n",
              "        [118., 134.],\n",
              "        [ 20.,  38.],\n",
              "        [102., 120.]])"
            ]
          },
          "metadata": {},
          "execution_count": 32
        }
      ],
      "source": [
        "targets"
      ]
    },
    {
      "cell_type": "code",
      "source": [],
      "metadata": {
        "id": "0XWqWJUwWVmC"
      },
      "execution_count": null,
      "outputs": []
    }
  ],
  "metadata": {
    "colab": {
      "provenance": []
    },
    "kernelspec": {
      "display_name": "Python 3",
      "name": "python3"
    },
    "language_info": {
      "name": "python"
    }
  },
  "nbformat": 4,
  "nbformat_minor": 0
}