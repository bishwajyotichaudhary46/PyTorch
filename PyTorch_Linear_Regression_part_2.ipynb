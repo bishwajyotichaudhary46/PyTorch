{
  "nbformat": 4,
  "nbformat_minor": 0,
  "metadata": {
    "colab": {
      "provenance": []
    },
    "kernelspec": {
      "name": "python3",
      "display_name": "Python 3"
    },
    "language_info": {
      "name": "python"
    }
  },
  "cells": [
    {
      "cell_type": "code",
      "source": [
        "import numpy as np\n",
        "import torch"
      ],
      "metadata": {
        "id": "BrZ3vLwBgMl2"
      },
      "execution_count": 25,
      "outputs": []
    },
    {
      "cell_type": "code",
      "source": [
        "input = np.array([[73,67,43],\n",
        " [91,88,64],\n",
        "  [87,134,58],\n",
        "  [102,43,37],\n",
        "   [69,96,70]],dtype = 'float32')"
      ],
      "metadata": {
        "id": "CNlPQ3qygMpx"
      },
      "execution_count": 26,
      "outputs": []
    },
    {
      "cell_type": "code",
      "source": [
        "targets = np.array([[56,70],\n",
        "                    [81,101],\n",
        "                    [119,113],\n",
        "                     [22,37],\n",
        "                    [103,119]], dtype='float32')"
      ],
      "metadata": {
        "id": "gEgUld5LgMsu"
      },
      "execution_count": 27,
      "outputs": []
    },
    {
      "cell_type": "code",
      "source": [
        "inputs = torch.from_numpy(input)\n",
        "targets = torch.from_numpy(targets)\n",
        "print(inputs)\n",
        "print(targets)"
      ],
      "metadata": {
        "colab": {
          "base_uri": "https://localhost:8080/"
        },
        "id": "4rxN__c3gMvp",
        "outputId": "a7618b3f-fedd-4fbf-f3e2-022de8e13d01"
      },
      "execution_count": 28,
      "outputs": [
        {
          "output_type": "stream",
          "name": "stdout",
          "text": [
            "tensor([[ 73.,  67.,  43.],\n",
            "        [ 91.,  88.,  64.],\n",
            "        [ 87., 134.,  58.],\n",
            "        [102.,  43.,  37.],\n",
            "        [ 69.,  96.,  70.]])\n",
            "tensor([[ 56.,  70.],\n",
            "        [ 81., 101.],\n",
            "        [119., 113.],\n",
            "        [ 22.,  37.],\n",
            "        [103., 119.]])\n"
          ]
        }
      ]
    },
    {
      "cell_type": "code",
      "source": [
        "# weigths and baises\n",
        "w = torch.randn(2,3, requires_grad=True)\n",
        "b = torch.randn(2, requires_grad=True)\n",
        "print(w)\n",
        "print(b)"
      ],
      "metadata": {
        "colab": {
          "base_uri": "https://localhost:8080/"
        },
        "id": "7FBmRklRgMyi",
        "outputId": "0367e3ec-e178-47c0-f32b-c561b58a6b5d"
      },
      "execution_count": 29,
      "outputs": [
        {
          "output_type": "stream",
          "name": "stdout",
          "text": [
            "tensor([[ 0.3088, -2.9144,  1.3369],\n",
            "        [-0.2791,  0.5479, -0.1951]], requires_grad=True)\n",
            "tensor([-0.3735,  0.8594], requires_grad=True)\n"
          ]
        }
      ]
    },
    {
      "cell_type": "code",
      "source": [
        "# we define model\n",
        "def model(x):\n",
        "  return x @ w.t() + b"
      ],
      "metadata": {
        "id": "8nf3rMWPgM2y"
      },
      "execution_count": 33,
      "outputs": []
    },
    {
      "cell_type": "markdown",
      "source": [
        "@ denote matrix multiplication in Pytorch. .t() --> transope of tensor"
      ],
      "metadata": {
        "id": "sr7LDuiCmxWP"
      }
    },
    {
      "cell_type": "code",
      "source": [
        "w.t()"
      ],
      "metadata": {
        "colab": {
          "base_uri": "https://localhost:8080/"
        },
        "id": "2TvwQcbFgM6B",
        "outputId": "f279bfbd-75c1-4455-d7c1-c25176ccbb42"
      },
      "execution_count": 30,
      "outputs": [
        {
          "output_type": "execute_result",
          "data": {
            "text/plain": [
              "tensor([[ 0.3088, -0.2791],\n",
              "        [-2.9144,  0.5479],\n",
              "        [ 1.3369, -0.1951]], grad_fn=<TBackward0>)"
            ]
          },
          "metadata": {},
          "execution_count": 30
        }
      ]
    },
    {
      "cell_type": "code",
      "source": [
        "inputs @ w.t() + b"
      ],
      "metadata": {
        "colab": {
          "base_uri": "https://localhost:8080/"
        },
        "id": "B23HcEwegM-T",
        "outputId": "68ff5030-df42-4ae8-989b-ebbc35cc0fd1"
      },
      "execution_count": 31,
      "outputs": [
        {
          "output_type": "execute_result",
          "data": {
            "text/plain": [
              "tensor([[-115.6079,    8.8065],\n",
              "        [-143.1769,   11.1922],\n",
              "        [-286.4966,   38.6822],\n",
              "        [ -44.7271,  -11.2663],\n",
              "        [-165.2652,   20.5450]], grad_fn=<AddBackward0>)"
            ]
          },
          "metadata": {},
          "execution_count": 31
        }
      ]
    },
    {
      "cell_type": "code",
      "source": [
        "preds = model(inputs)\n",
        "print(preds)"
      ],
      "metadata": {
        "colab": {
          "base_uri": "https://localhost:8080/"
        },
        "id": "glOYxB7UgNBn",
        "outputId": "745ad08a-0283-4065-ba98-7d8b73c97d34"
      },
      "execution_count": 34,
      "outputs": [
        {
          "output_type": "stream",
          "name": "stdout",
          "text": [
            "tensor([[-115.6079,    8.8065],\n",
            "        [-143.1769,   11.1922],\n",
            "        [-286.4966,   38.6822],\n",
            "        [ -44.7271,  -11.2663],\n",
            "        [-165.2652,   20.5450]], grad_fn=<AddBackward0>)\n"
          ]
        }
      ]
    },
    {
      "cell_type": "code",
      "source": [
        "print(targets)"
      ],
      "metadata": {
        "colab": {
          "base_uri": "https://localhost:8080/"
        },
        "id": "GT9MfnKOYOur",
        "outputId": "7df45429-fedf-46e4-87c3-cefec3363f4d"
      },
      "execution_count": 35,
      "outputs": [
        {
          "output_type": "stream",
          "name": "stdout",
          "text": [
            "tensor([[ 56.,  70.],\n",
            "        [ 81., 101.],\n",
            "        [119., 113.],\n",
            "        [ 22.,  37.],\n",
            "        [103., 119.]])\n"
          ]
        }
      ]
    },
    {
      "cell_type": "markdown",
      "source": [
        "# Loss Function\n",
        "Before we improve the our model, we need a way to evaluate how well our model is performing . We can compare the model's predictions with actual targets using following methods.\n",
        "1. calculate the differnce between the two matrices( pred and targets).\n",
        "2. square the all elements of the difference matrix remove negative values.\n",
        "3.Calculate the average of the elements in resulting matric\n"
      ],
      "metadata": {
        "id": "K_CX8un8ns3M"
      }
    },
    {
      "cell_type": "code",
      "source": [
        "def mse(t1, t2):\n",
        "  diff = t1 - t2\n",
        "  return torch.sum(diff**2)/ diff.numel()"
      ],
      "metadata": {
        "id": "lM3E0QOBYOyD"
      },
      "execution_count": 42,
      "outputs": []
    },
    {
      "cell_type": "code",
      "source": [
        "diff = preds - targets"
      ],
      "metadata": {
        "id": "AO6gtHxYnloF"
      },
      "execution_count": 36,
      "outputs": []
    },
    {
      "cell_type": "code",
      "source": [
        "torch.sum(diff**2)"
      ],
      "metadata": {
        "colab": {
          "base_uri": "https://localhost:8080/"
        },
        "id": "MpAyj6mYnlzC",
        "outputId": "7a7e267c-cc57-449d-9030-3a6d9e47c356"
      },
      "execution_count": 40,
      "outputs": [
        {
          "output_type": "execute_result",
          "data": {
            "text/plain": [
              "tensor(349906.9688, grad_fn=<SumBackward0>)"
            ]
          },
          "metadata": {},
          "execution_count": 40
        }
      ]
    },
    {
      "cell_type": "code",
      "source": [
        "diff**2"
      ],
      "metadata": {
        "colab": {
          "base_uri": "https://localhost:8080/"
        },
        "id": "SR9zUha9nl9b",
        "outputId": "9e2a9b40-40fc-453e-ad70-eada45752e98"
      },
      "execution_count": 41,
      "outputs": [
        {
          "output_type": "execute_result",
          "data": {
            "text/plain": [
              "tensor([[ 29449.2793,   3744.6404],\n",
              "        [ 50255.2656,   8065.4395],\n",
              "        [164427.4844,   5523.1416],\n",
              "        [  4452.5117,   2329.6321],\n",
              "        [ 71966.2188,   9693.3818]], grad_fn=<PowBackward0>)"
            ]
          },
          "metadata": {},
          "execution_count": 41
        }
      ]
    },
    {
      "cell_type": "code",
      "source": [
        "loss = mse(preds, targets)\n",
        "print(loss)"
      ],
      "metadata": {
        "colab": {
          "base_uri": "https://localhost:8080/"
        },
        "id": "BxYo4-TdnmKk",
        "outputId": "53a938ce-ea66-419c-ce7b-c97c8680411b"
      },
      "execution_count": 43,
      "outputs": [
        {
          "output_type": "stream",
          "name": "stdout",
          "text": [
            "tensor(34990.6953, grad_fn=<DivBackward0>)\n"
          ]
        }
      ]
    },
    {
      "cell_type": "markdown",
      "source": [
        "# Compute Gradients\n"
      ],
      "metadata": {
        "id": "hXP7MhQ2q9Sk"
      }
    },
    {
      "cell_type": "code",
      "source": [
        "loss.backward()"
      ],
      "metadata": {
        "id": "bFaz4SUtnmWq"
      },
      "execution_count": 44,
      "outputs": []
    },
    {
      "cell_type": "code",
      "source": [
        "print(w)\n",
        "print(w.grad)"
      ],
      "metadata": {
        "colab": {
          "base_uri": "https://localhost:8080/"
        },
        "id": "bGEAf0yQnmi4",
        "outputId": "60da7c53-c32c-4114-d48c-5eeeee9ee390"
      },
      "execution_count": 45,
      "outputs": [
        {
          "output_type": "stream",
          "name": "stdout",
          "text": [
            "tensor([[ 0.3088, -2.9144,  1.3369],\n",
            "        [-0.2791,  0.5479, -0.1951]], requires_grad=True)\n",
            "tensor([[-18704.4297, -22836.9141, -13298.5469],\n",
            "        [ -6164.3677,  -6697.7529,  -4273.4307]])\n"
          ]
        }
      ]
    },
    {
      "cell_type": "markdown",
      "source": [
        "The loss is a quardatic function of our weights and baises and our objectives is to find the set of weights where the loss is the lowest.If we plot a graph of the loss w.r.t any individual weight or bias elements, it will look like the figure show below . An important insight from calculus is that the gradient indicates the rate of the change of the loss, i.e the loss functions's slope w.r.t the weights and biases.\n",
        "\n",
        "if a gradient element is positive:\n",
        "1. increasing the weight element's value slightly will increase the loss\n",
        "2. decreasing the weight element's value will decrease the loss\n"
      ],
      "metadata": {
        "id": "kM-I9-XyvOa2"
      }
    },
    {
      "cell_type": "markdown",
      "source": [
        "if gradient element is negative:\n",
        "1. increasing the weight element's value slightly will decrease the loss\n",
        "2. decreasing the weight elements value slightly will increasing the loss"
      ],
      "metadata": {
        "id": "B5nACFfgx22j"
      }
    },
    {
      "cell_type": "markdown",
      "source": [
        "Before we proceed, we reset the gradients to zero by invoking the .zero() method. We need to do this because PyTorch accumulate gradients. The next time we invoke .backward on the loss,  the new gradient values are added to the existing values, which may lead to  unexpected results."
      ],
      "metadata": {
        "id": "IhArmHvwynfF"
      }
    },
    {
      "cell_type": "code",
      "source": [
        "w.grad.zero_()\n",
        "b.grad.zero_()\n",
        "print(w.grad)\n",
        "print(b.grad)"
      ],
      "metadata": {
        "colab": {
          "base_uri": "https://localhost:8080/"
        },
        "id": "8_0qk3gnrSDJ",
        "outputId": "451566c7-0ed4-408e-ea47-8072c61cf4a8"
      },
      "execution_count": 46,
      "outputs": [
        {
          "output_type": "stream",
          "name": "stdout",
          "text": [
            "tensor([[0., 0., 0.],\n",
            "        [0., 0., 0.]])\n",
            "tensor([0., 0.])\n"
          ]
        }
      ]
    },
    {
      "cell_type": "markdown",
      "source": [
        "## Adjust the weights  and baises using Gradient descent\n",
        "\n",
        "we'll reduce the loss and improve our model using the gradient descent optimization algorithm , which has the following steps:\n",
        "\n",
        "1. Generate the Predictions\n",
        "2. Calculate the loss\n",
        "3. compute the gradients w.r.t the weight and baises\n",
        "4. Adjust the weights by subtracting a small quantity proportional to gradient \n",
        "5. Reset the gradient to Zero\n",
        "\n",
        "Let's Implements the above step by step"
      ],
      "metadata": {
        "id": "kbDNxoHiz_El"
      }
    },
    {
      "cell_type": "code",
      "source": [
        "# Generate Predictions\n",
        "preds = model(inputs)\n",
        "print(preds)"
      ],
      "metadata": {
        "colab": {
          "base_uri": "https://localhost:8080/"
        },
        "id": "YBnLXlgkrSSV",
        "outputId": "1145b603-8b32-4b37-e620-966ff8034734"
      },
      "execution_count": 47,
      "outputs": [
        {
          "output_type": "stream",
          "name": "stdout",
          "text": [
            "tensor([[-115.6079,    8.8065],\n",
            "        [-143.1769,   11.1922],\n",
            "        [-286.4966,   38.6822],\n",
            "        [ -44.7271,  -11.2663],\n",
            "        [-165.2652,   20.5450]], grad_fn=<AddBackward0>)\n"
          ]
        }
      ]
    },
    {
      "cell_type": "code",
      "source": [
        "loss = mse(preds, targets)\n",
        "print(loss)"
      ],
      "metadata": {
        "colab": {
          "base_uri": "https://localhost:8080/"
        },
        "id": "VVSYkaFGzpPy",
        "outputId": "d1c7fe7a-57f0-4883-b9c8-99ea9c445053"
      },
      "execution_count": 49,
      "outputs": [
        {
          "output_type": "stream",
          "name": "stdout",
          "text": [
            "tensor(34990.6953, grad_fn=<DivBackward0>)\n"
          ]
        }
      ]
    },
    {
      "cell_type": "code",
      "source": [
        "loss.backward()"
      ],
      "metadata": {
        "id": "DYy4PZgWzpfR"
      },
      "execution_count": 50,
      "outputs": []
    },
    {
      "cell_type": "code",
      "source": [
        "print(w.grad)\n",
        "print(b.grad)"
      ],
      "metadata": {
        "colab": {
          "base_uri": "https://localhost:8080/"
        },
        "id": "KEq8gj2CzpvN",
        "outputId": "76dece26-7e3a-4c87-a0f2-ffb6c86c985b"
      },
      "execution_count": 51,
      "outputs": [
        {
          "output_type": "stream",
          "name": "stdout",
          "text": [
            "tensor([[-18704.4297, -22836.9141, -13298.5469],\n",
            "        [ -6164.3677,  -6697.7529,  -4273.4307]])\n",
            "tensor([-227.2547,  -74.4081])\n"
          ]
        }
      ]
    },
    {
      "cell_type": "code",
      "source": [
        "# Adjust the weights and reset gradient\n",
        "with torch.no_grad():\n",
        "  w -= w.grad * 1e-5\n",
        "  b -= b.grad * 1e-5\n",
        "  w.grad.zero_()\n",
        "  b.grad.zero_()"
      ],
      "metadata": {
        "id": "fHhCIQbzzp-k"
      },
      "execution_count": 52,
      "outputs": []
    },
    {
      "cell_type": "markdown",
      "source": [
        "# A few things note above:\n",
        "1. We use torch.no_grad to indicate to PyTorch that we shouldn't track, calculate, or modify gradients while updating the weights and baises.\n",
        "2. We Multiply the gradient with very small number (10^5 in this case ) to ensure that we don't modify the weights by avery lar?ge amount.    we want to take a small step in the downhill direction of the gradient , not a gaint leap. This number is called learning."
      ],
      "metadata": {
        "id": "VIXSWHgc2FZb"
      }
    },
    {
      "cell_type": "code",
      "source": [
        "preds = model(inputs)\n",
        "print(preds)"
      ],
      "metadata": {
        "colab": {
          "base_uri": "https://localhost:8080/"
        },
        "id": "U-dHYPP2zqOC",
        "outputId": "8487f4d2-bf46-47fb-b3bd-dc3c4a6b8146"
      },
      "execution_count": 56,
      "outputs": [
        {
          "output_type": "stream",
          "name": "stdout",
          "text": [
            "tensor([[ -80.9323,   19.6323],\n",
            "        [ -97.5460,   25.4315],\n",
            "        [-231.9068,   55.4995],\n",
            "        [ -10.9060,   -0.5167],\n",
            "        [-121.1244,   34.2204]], grad_fn=<AddBackward0>)\n"
          ]
        }
      ]
    },
    {
      "cell_type": "code",
      "source": [
        "loss = mse(preds, targets)"
      ],
      "metadata": {
        "id": "I0GwYUt2zqeN"
      },
      "execution_count": 57,
      "outputs": []
    },
    {
      "cell_type": "code",
      "source": [
        "loss"
      ],
      "metadata": {
        "colab": {
          "base_uri": "https://localhost:8080/"
        },
        "id": "0OXRevM4rShA",
        "outputId": "d71ddded-c252-48f3-de75-e9218cd129f5"
      },
      "execution_count": 58,
      "outputs": [
        {
          "output_type": "execute_result",
          "data": {
            "text/plain": [
              "tensor(24522.8164, grad_fn=<DivBackward0>)"
            ]
          },
          "metadata": {},
          "execution_count": 58
        }
      ]
    },
    {
      "cell_type": "markdown",
      "source": [
        "Train Multiple Epoch"
      ],
      "metadata": {
        "id": "iU42Pv9Y67mC"
      }
    },
    {
      "cell_type": "code",
      "source": [
        "# Train 100 epoch\n",
        "for i in range(100):\n",
        "  preds = model(inputs)\n",
        "  loss = mse(preds, targets)\n",
        "  loss.backward()\n",
        "  with torch.no_grad():\n",
        "    w -= w.grad * 1e-5\n",
        "    b -= b.grad * 1e-5\n",
        "    w.grad.zero_()\n",
        "    b.grad.zero_()"
      ],
      "metadata": {
        "id": "PDECLFwXrSwA"
      },
      "execution_count": 59,
      "outputs": []
    },
    {
      "cell_type": "code",
      "source": [
        "# calculate loss\n",
        "preds = model(inputs)\n",
        "loss = mse(preds,targets)\n",
        "print(loss)"
      ],
      "metadata": {
        "colab": {
          "base_uri": "https://localhost:8080/"
        },
        "id": "0r7hJJ50rTA_",
        "outputId": "59009247-9372-4227-cfbc-30d5453f95e6"
      },
      "execution_count": 60,
      "outputs": [
        {
          "output_type": "stream",
          "name": "stdout",
          "text": [
            "tensor(973.6049, grad_fn=<DivBackward0>)\n"
          ]
        }
      ]
    },
    {
      "cell_type": "code",
      "source": [
        "preds"
      ],
      "metadata": {
        "colab": {
          "base_uri": "https://localhost:8080/"
        },
        "id": "QEZz5RLnrTRl",
        "outputId": "766fa37b-00af-44e3-ff2c-383eb94dfb2f"
      },
      "execution_count": 61,
      "outputs": [
        {
          "output_type": "execute_result",
          "data": {
            "text/plain": [
              "tensor([[ 67.9784,  68.8003],\n",
              "        [102.7303,  91.3133],\n",
              "        [ 54.6313, 131.9175],\n",
              "        [ 85.6193,  46.2112],\n",
              "        [ 99.8900,  99.4562]], grad_fn=<AddBackward0>)"
            ]
          },
          "metadata": {},
          "execution_count": 61
        }
      ]
    },
    {
      "cell_type": "code",
      "source": [
        "targets"
      ],
      "metadata": {
        "colab": {
          "base_uri": "https://localhost:8080/"
        },
        "id": "emfMKrtV-bS_",
        "outputId": "d3a5c99a-cea6-4b70-bda2-7e13b823027f"
      },
      "execution_count": 63,
      "outputs": [
        {
          "output_type": "execute_result",
          "data": {
            "text/plain": [
              "tensor([[ 56.,  70.],\n",
              "        [ 81., 101.],\n",
              "        [119., 113.],\n",
              "        [ 22.,  37.],\n",
              "        [103., 119.]])"
            ]
          },
          "metadata": {},
          "execution_count": 63
        }
      ]
    },
    {
      "cell_type": "code",
      "source": [],
      "metadata": {
        "id": "WK3DJx2K-bpD"
      },
      "execution_count": null,
      "outputs": []
    }
  ]
}